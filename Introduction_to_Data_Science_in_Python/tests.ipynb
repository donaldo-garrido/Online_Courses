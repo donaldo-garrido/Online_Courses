{
 "cells": [
  {
   "attachments": {},
   "cell_type": "markdown",
   "metadata": {},
   "source": [
    "# Tests\n",
    "Here I do some tests to figure out how does some parts of pandas work"
   ]
  },
  {
   "attachments": {},
   "cell_type": "markdown",
   "metadata": {},
   "source": [
    "## Quiz 2"
   ]
  },
  {
   "cell_type": "code",
   "execution_count": 1,
   "metadata": {},
   "outputs": [],
   "source": [
    "import pandas as pd\n",
    "sdata = {'Ohio': 35000, 'Texas': 71000, 'Oregon': 16000, 'Utah': 5000}\n",
    "obj1 = pd.Series(sdata)\n",
    "states = ['California', 'Ohio', 'Oregon', 'Texas']\n",
    "obj2 = pd.Series(sdata, index=states)\n",
    "obj3 = pd.isnull(obj2)"
   ]
  },
  {
   "cell_type": "code",
   "execution_count": 6,
   "metadata": {},
   "outputs": [
    {
     "data": {
      "text/plain": [
       "False"
      ]
     },
     "execution_count": 6,
     "metadata": {},
     "output_type": "execute_result"
    }
   ],
   "source": [
    "obj2['California'] == None"
   ]
  },
  {
   "cell_type": "code",
   "execution_count": 8,
   "metadata": {},
   "outputs": [
    {
     "data": {
      "text/plain": [
       "1    Alice\n",
       "2      Bob\n",
       "3     Rita\n",
       "dtype: object"
      ]
     },
     "execution_count": 8,
     "metadata": {},
     "output_type": "execute_result"
    }
   ],
   "source": [
    "d = {'1': 'Alice','2': 'Bob','3': 'Rita','4': 'Molly','5': 'Ryan'}\n",
    "S = pd.Series(d)\n",
    "S.iloc[0:3]"
   ]
  },
  {
   "cell_type": "code",
   "execution_count": null,
   "metadata": {},
   "outputs": [],
   "source": [
    "# df.rename(mapper = lambda x: x.upper(), axis = 1)\n",
    "# df.where(df['toefl score'] > 105)\n",
    "# All of these will work\n",
    "# df.drop('two')\n"
   ]
  },
  {
   "cell_type": "code",
   "execution_count": 11,
   "metadata": {},
   "outputs": [
    {
     "ename": "TypeError",
     "evalue": "cannot do label indexing on <class 'pandas.core.indexes.base.Index'> with these indexers [1] of <class 'int'>",
     "output_type": "error",
     "traceback": [
      "\u001b[0;31m---------------------------------------------------------------------------\u001b[0m",
      "\u001b[0;31mTypeError\u001b[0m                                 Traceback (most recent call last)",
      "\u001b[1;32m/home/donaldo3500/Documents/Cursos/Coursera/Upload/Applied Data Science with Python/Introduction_to_Data_Science_in_Python/tests.ipynb Cell 5\u001b[0m in \u001b[0;36m4\n\u001b[1;32m      <a href='vscode-notebook-cell:/home/donaldo3500/Documents/Cursos/Coursera/Upload/Applied%20Data%20Science%20with%20Python/Introduction_to_Data_Science_in_Python/tests.ipynb#W4sZmlsZQ%3D%3D?line=0'>1</a>\u001b[0m s1 \u001b[39m=\u001b[39m pd\u001b[39m.\u001b[39mSeries({\u001b[39m1\u001b[39m: \u001b[39m'\u001b[39m\u001b[39mAlice\u001b[39m\u001b[39m'\u001b[39m, \u001b[39m2\u001b[39m: \u001b[39m'\u001b[39m\u001b[39mJack\u001b[39m\u001b[39m'\u001b[39m, \u001b[39m3\u001b[39m: \u001b[39m'\u001b[39m\u001b[39mMolly\u001b[39m\u001b[39m'\u001b[39m})\n\u001b[1;32m      <a href='vscode-notebook-cell:/home/donaldo3500/Documents/Cursos/Coursera/Upload/Applied%20Data%20Science%20with%20Python/Introduction_to_Data_Science_in_Python/tests.ipynb#W4sZmlsZQ%3D%3D?line=1'>2</a>\u001b[0m s2 \u001b[39m=\u001b[39m pd\u001b[39m.\u001b[39mSeries({\u001b[39m'\u001b[39m\u001b[39mAlice\u001b[39m\u001b[39m'\u001b[39m: \u001b[39m1\u001b[39m, \u001b[39m'\u001b[39m\u001b[39mJack\u001b[39m\u001b[39m'\u001b[39m: \u001b[39m2\u001b[39m, \u001b[39m'\u001b[39m\u001b[39mMolly\u001b[39m\u001b[39m'\u001b[39m: \u001b[39m3\u001b[39m})\n\u001b[0;32m----> <a href='vscode-notebook-cell:/home/donaldo3500/Documents/Cursos/Coursera/Upload/Applied%20Data%20Science%20with%20Python/Introduction_to_Data_Science_in_Python/tests.ipynb#W4sZmlsZQ%3D%3D?line=3'>4</a>\u001b[0m s2\u001b[39m.\u001b[39;49mloc[\u001b[39m1\u001b[39;49m]\n",
      "File \u001b[0;32m/usr/lib/python3/dist-packages/pandas/core/indexing.py:1424\u001b[0m, in \u001b[0;36m_LocationIndexer.__getitem__\u001b[0;34m(self, key)\u001b[0m\n\u001b[1;32m   1421\u001b[0m axis \u001b[39m=\u001b[39m \u001b[39mself\u001b[39m\u001b[39m.\u001b[39maxis \u001b[39mor\u001b[39;00m \u001b[39m0\u001b[39m\n\u001b[1;32m   1423\u001b[0m maybe_callable \u001b[39m=\u001b[39m com\u001b[39m.\u001b[39mapply_if_callable(key, \u001b[39mself\u001b[39m\u001b[39m.\u001b[39mobj)\n\u001b[0;32m-> 1424\u001b[0m \u001b[39mreturn\u001b[39;00m \u001b[39mself\u001b[39;49m\u001b[39m.\u001b[39;49m_getitem_axis(maybe_callable, axis\u001b[39m=\u001b[39;49maxis)\n",
      "File \u001b[0;32m/usr/lib/python3/dist-packages/pandas/core/indexing.py:1849\u001b[0m, in \u001b[0;36m_LocIndexer._getitem_axis\u001b[0;34m(self, key, axis)\u001b[0m\n\u001b[1;32m   1846\u001b[0m         \u001b[39mreturn\u001b[39;00m \u001b[39mself\u001b[39m\u001b[39m.\u001b[39mobj\u001b[39m.\u001b[39miloc[\u001b[39mtuple\u001b[39m(indexer)]\n\u001b[1;32m   1848\u001b[0m \u001b[39m# fall thru to straight lookup\u001b[39;00m\n\u001b[0;32m-> 1849\u001b[0m \u001b[39mself\u001b[39;49m\u001b[39m.\u001b[39;49m_validate_key(key, axis)\n\u001b[1;32m   1850\u001b[0m \u001b[39mreturn\u001b[39;00m \u001b[39mself\u001b[39m\u001b[39m.\u001b[39m_get_label(key, axis\u001b[39m=\u001b[39maxis)\n",
      "File \u001b[0;32m/usr/lib/python3/dist-packages/pandas/core/indexing.py:1725\u001b[0m, in \u001b[0;36m_LocIndexer._validate_key\u001b[0;34m(self, key, axis)\u001b[0m\n\u001b[1;32m   1722\u001b[0m     \u001b[39mreturn\u001b[39;00m\n\u001b[1;32m   1724\u001b[0m \u001b[39mif\u001b[39;00m \u001b[39mnot\u001b[39;00m is_list_like_indexer(key):\n\u001b[0;32m-> 1725\u001b[0m     \u001b[39mself\u001b[39;49m\u001b[39m.\u001b[39;49m_convert_scalar_indexer(key, axis)\n",
      "File \u001b[0;32m/usr/lib/python3/dist-packages/pandas/core/indexing.py:274\u001b[0m, in \u001b[0;36m_NDFrameIndexer._convert_scalar_indexer\u001b[0;34m(self, key, axis)\u001b[0m\n\u001b[1;32m    272\u001b[0m ax \u001b[39m=\u001b[39m \u001b[39mself\u001b[39m\u001b[39m.\u001b[39mobj\u001b[39m.\u001b[39m_get_axis(\u001b[39mmin\u001b[39m(axis, \u001b[39mself\u001b[39m\u001b[39m.\u001b[39mndim \u001b[39m-\u001b[39m \u001b[39m1\u001b[39m))\n\u001b[1;32m    273\u001b[0m \u001b[39m# a scalar\u001b[39;00m\n\u001b[0;32m--> 274\u001b[0m \u001b[39mreturn\u001b[39;00m ax\u001b[39m.\u001b[39;49m_convert_scalar_indexer(key, kind\u001b[39m=\u001b[39;49m\u001b[39mself\u001b[39;49m\u001b[39m.\u001b[39;49mname)\n",
      "File \u001b[0;32m/usr/lib/python3/dist-packages/pandas/core/indexes/base.py:3138\u001b[0m, in \u001b[0;36mIndex._convert_scalar_indexer\u001b[0;34m(self, key, kind)\u001b[0m\n\u001b[1;32m   3136\u001b[0m     \u001b[39melif\u001b[39;00m kind \u001b[39min\u001b[39;00m [\u001b[39m\"\u001b[39m\u001b[39mloc\u001b[39m\u001b[39m\"\u001b[39m] \u001b[39mand\u001b[39;00m is_integer(key):\n\u001b[1;32m   3137\u001b[0m         \u001b[39mif\u001b[39;00m \u001b[39mnot\u001b[39;00m \u001b[39mself\u001b[39m\u001b[39m.\u001b[39mholds_integer():\n\u001b[0;32m-> 3138\u001b[0m             \u001b[39mreturn\u001b[39;00m \u001b[39mself\u001b[39;49m\u001b[39m.\u001b[39;49m_invalid_indexer(\u001b[39m\"\u001b[39;49m\u001b[39mlabel\u001b[39;49m\u001b[39m\"\u001b[39;49m, key)\n\u001b[1;32m   3140\u001b[0m \u001b[39mreturn\u001b[39;00m key\n",
      "File \u001b[0;32m/usr/lib/python3/dist-packages/pandas/core/indexes/base.py:3337\u001b[0m, in \u001b[0;36mIndex._invalid_indexer\u001b[0;34m(self, form, key)\u001b[0m\n\u001b[1;32m   3333\u001b[0m \u001b[39mdef\u001b[39;00m \u001b[39m_invalid_indexer\u001b[39m(\u001b[39mself\u001b[39m, form, key):\n\u001b[1;32m   3334\u001b[0m     \u001b[39m\"\"\"\u001b[39;00m\n\u001b[1;32m   3335\u001b[0m \u001b[39m    Consistent invalid indexer message.\u001b[39;00m\n\u001b[1;32m   3336\u001b[0m \u001b[39m    \"\"\"\u001b[39;00m\n\u001b[0;32m-> 3337\u001b[0m     \u001b[39mraise\u001b[39;00m \u001b[39mTypeError\u001b[39;00m(\n\u001b[1;32m   3338\u001b[0m         \u001b[39m\"\u001b[39m\u001b[39mcannot do \u001b[39m\u001b[39m{form}\u001b[39;00m\u001b[39m indexing on \u001b[39m\u001b[39m{klass}\u001b[39;00m\u001b[39m with these \u001b[39m\u001b[39m\"\u001b[39m\n\u001b[1;32m   3339\u001b[0m         \u001b[39m\"\u001b[39m\u001b[39mindexers [\u001b[39m\u001b[39m{key}\u001b[39;00m\u001b[39m] of \u001b[39m\u001b[39m{kind}\u001b[39;00m\u001b[39m\"\u001b[39m\u001b[39m.\u001b[39mformat(\n\u001b[1;32m   3340\u001b[0m             form\u001b[39m=\u001b[39mform, klass\u001b[39m=\u001b[39m\u001b[39mtype\u001b[39m(\u001b[39mself\u001b[39m), key\u001b[39m=\u001b[39mkey, kind\u001b[39m=\u001b[39m\u001b[39mtype\u001b[39m(key)\n\u001b[1;32m   3341\u001b[0m         )\n\u001b[1;32m   3342\u001b[0m     )\n",
      "\u001b[0;31mTypeError\u001b[0m: cannot do label indexing on <class 'pandas.core.indexes.base.Index'> with these indexers [1] of <class 'int'>"
     ]
    }
   ],
   "source": [
    "s1 = pd.Series({1: 'Alice', 2: 'Jack', 3: 'Molly'})\n",
    "s2 = pd.Series({'Alice': 1, 'Jack': 2, 'Molly': 3})\n",
    "\n",
    "s2.loc[1]"
   ]
  },
  {
   "cell_type": "code",
   "execution_count": 13,
   "metadata": {},
   "outputs": [
    {
     "name": "stdout",
     "output_type": "stream",
     "text": [
      "(1, 'Alice')\n",
      "(2, 'Jack')\n",
      "(3, 'Molly')\n"
     ]
    }
   ],
   "source": [
    "# loc and iloc are two useful and commonly used Pandas methods.\n",
    "# (df['toefl score'] > 105) & (df['toefl score'] < 115)\n",
    "# df.T['Mathematics']\n",
    "\n",
    "for ii in s1.iteritems():\n",
    "    print(ii)"
   ]
  },
  {
   "attachments": {},
   "cell_type": "markdown",
   "metadata": {},
   "source": [
    "## Quiz 3"
   ]
  },
  {
   "cell_type": "code",
   "execution_count": 1,
   "metadata": {},
   "outputs": [
    {
     "ename": "SyntaxError",
     "evalue": "cannot assign to literal (2381890044.py, line 2)",
     "output_type": "error",
     "traceback": [
      "\u001b[0;36m  Cell \u001b[0;32mIn [1], line 2\u001b[0;36m\u001b[0m\n\u001b[0;31m    x = 1, y = 0\u001b[0m\n\u001b[0m        ^\u001b[0m\n\u001b[0;31mSyntaxError\u001b[0m\u001b[0;31m:\u001b[0m cannot assign to literal\n"
     ]
    }
   ],
   "source": [
    "pd.merge(student_df, staff_df, how='left', left_index=True, right_index=True)\n",
    "# x = 1, y = 1\n",
    "my_categories = pd.CategoricalDtype(categories=['D', 'D+', 'C-', 'C', 'C+', 'B-', 'B', 'B+', 'A-', 'A', 'A+'], ordered=True)"
   ]
  },
  {
   "cell_type": "code",
   "execution_count": null,
   "metadata": {},
   "outputs": [],
   "source": [
    "df.pivot_table(values='score', index='country', columns='Rank_Level', aggfunc=[np.median], margins=True)"
   ]
  },
  {
   "cell_type": "code",
   "execution_count": 2,
   "metadata": {},
   "outputs": [
    {
     "data": {
      "text/plain": [
       "5"
      ]
     },
     "execution_count": 2,
     "metadata": {},
     "output_type": "execute_result"
    }
   ],
   "source": [
    "import pandas as pd\n",
    "(pd.Timestamp('11/29/2019') + pd.offsets.MonthEnd()).weekday()"
   ]
  },
  {
   "cell_type": "code",
   "execution_count": null,
   "metadata": {},
   "outputs": [],
   "source": [
    "df.groupby(group_key).apply(filling_mean)\n",
    "result_df = pd.merge(staff_df, student_df, how='right', on=['First Name', 'Last Name'])\n",
    "df.groupby('review_scores_value').agg({'name': len, 'reviews_per_month': (np.nanmean, np.nanstd)})"
   ]
  },
  {
   "cell_type": "code",
   "execution_count": 3,
   "metadata": {},
   "outputs": [
    {
     "data": {
      "text/plain": [
       "Period('2019-06', 'M')"
      ]
     },
     "execution_count": 3,
     "metadata": {},
     "output_type": "execute_result"
    }
   ],
   "source": [
    "import pandas as pd\n",
    "pd.Period('01/12/2019', 'M') + 5"
   ]
  },
  {
   "cell_type": "code",
   "execution_count": null,
   "metadata": {},
   "outputs": [],
   "source": [
    "df.groupby('vegetable')"
   ]
  }
 ],
 "metadata": {
  "kernelspec": {
   "display_name": "Python 3",
   "language": "python",
   "name": "python3"
  },
  "language_info": {
   "codemirror_mode": {
    "name": "ipython",
    "version": 3
   },
   "file_extension": ".py",
   "mimetype": "text/x-python",
   "name": "python",
   "nbconvert_exporter": "python",
   "pygments_lexer": "ipython3",
   "version": "3.8.10"
  },
  "orig_nbformat": 4
 },
 "nbformat": 4,
 "nbformat_minor": 2
}
